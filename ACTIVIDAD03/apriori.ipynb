{
  "nbformat": 4,
  "nbformat_minor": 0,
  "metadata": {
    "colab": {
      "name": "apriory.ipynb",
      "provenance": [],
      "collapsed_sections": []
    },
    "kernelspec": {
      "display_name": "Python 3",
      "name": "python3"
    },
    "language_info": {
      "name": "python"
    }
  },
  "cells": [
    {
      "cell_type": "code",
      "metadata": {
        "id": "DE2hBldCgQSU"
      },
      "source": [
        "!pip freeze"
      ],
      "execution_count": null,
      "outputs": []
    },
    {
      "cell_type": "code",
      "metadata": {
        "id": "-U31ppfKWInM"
      },
      "source": [
        "import numpy as np\n",
        "import matplotlib.pyplot as plt\n",
        "import pandas as pd\n",
        "from collections import Counter\n",
        "from itertools import combinations"
      ],
      "execution_count": 92,
      "outputs": []
    },
    {
      "cell_type": "markdown",
      "metadata": {
        "id": "-xt3aYM1-82t"
      },
      "source": [
        "# Leer datos\n",
        "## lista de reproduccion de spotify\n"
      ]
    },
    {
      "cell_type": "code",
      "metadata": {
        "id": "XugbODuNWcUR"
      },
      "source": [
        "data = np.load('/content/spotify.npy', allow_pickle=True)\n",
        "# print(data)"
      ],
      "execution_count": 132,
      "outputs": []
    },
    {
      "cell_type": "markdown",
      "metadata": {
        "id": "7jaElcr3_lge"
      },
      "source": [
        "## convertir npy a dataframe"
      ]
    },
    {
      "cell_type": "code",
      "metadata": {
        "id": "Hmfjf7rQqe0D"
      },
      "source": [
        "spotify = dict()\n",
        "spotify_arr = list()\n",
        "\n",
        "k = 0\n",
        "for i, item in enumerate(data.item()):\n",
        "    spotify['transaction' + str(i)] = data.item()[i]\n",
        "    if k <= 10:\n",
        "        spotify_arr.append(data.item()[i])\n",
        "    k += 1\n"
      ],
      "execution_count": 144,
      "outputs": []
    },
    {
      "cell_type": "code",
      "metadata": {
        "id": "CM2EL_5JMC4f"
      },
      "source": [
        "df = pd.DataFrame(list(spotify.items()), columns=['transaction', 'music set'])"
      ],
      "execution_count": 101,
      "outputs": []
    },
    {
      "cell_type": "markdown",
      "metadata": {
        "id": "IFMJHwRXBGU_"
      },
      "source": [
        "## 10 transacciones "
      ]
    },
    {
      "cell_type": "code",
      "metadata": {
        "id": "W-nDiSNVOnhG",
        "colab": {
          "base_uri": "https://localhost:8080/",
          "height": 363
        },
        "outputId": "b2642ed0-83db-4cde-e7d1-6afa0afb1be1"
      },
      "source": [
        "df.head(10)"
      ],
      "execution_count": 134,
      "outputs": [
        {
          "output_type": "execute_result",
          "data": {
            "text/html": [
              "<div>\n",
              "<style scoped>\n",
              "    .dataframe tbody tr th:only-of-type {\n",
              "        vertical-align: middle;\n",
              "    }\n",
              "\n",
              "    .dataframe tbody tr th {\n",
              "        vertical-align: top;\n",
              "    }\n",
              "\n",
              "    .dataframe thead th {\n",
              "        text-align: right;\n",
              "    }\n",
              "</style>\n",
              "<table border=\"1\" class=\"dataframe\">\n",
              "  <thead>\n",
              "    <tr style=\"text-align: right;\">\n",
              "      <th></th>\n",
              "      <th>transaction</th>\n",
              "      <th>music set</th>\n",
              "    </tr>\n",
              "  </thead>\n",
              "  <tbody>\n",
              "    <tr>\n",
              "      <th>0</th>\n",
              "      <td>transaction0</td>\n",
              "      <td>[Lose Control (feat. Ciara &amp; Fat Man Scoop), T...</td>\n",
              "    </tr>\n",
              "    <tr>\n",
              "      <th>1</th>\n",
              "      <td>transaction1</td>\n",
              "      <td>[Eye of the Tiger, Libera Me From Hell (Tengen...</td>\n",
              "    </tr>\n",
              "    <tr>\n",
              "      <th>2</th>\n",
              "      <td>transaction2</td>\n",
              "      <td>[Like You, GOOD (feat. ELO), Inferiority Compl...</td>\n",
              "    </tr>\n",
              "    <tr>\n",
              "      <th>3</th>\n",
              "      <td>transaction3</td>\n",
              "      <td>[Danse macabre, Piano concerto No. 2 in G Mino...</td>\n",
              "    </tr>\n",
              "    <tr>\n",
              "      <th>4</th>\n",
              "      <td>transaction4</td>\n",
              "      <td>[Tonight, Tonight, Wonderwall - Remastered, I ...</td>\n",
              "    </tr>\n",
              "    <tr>\n",
              "      <th>5</th>\n",
              "      <td>transaction5</td>\n",
              "      <td>[Teach Me How to Dougie, Party In The U.S.A., ...</td>\n",
              "    </tr>\n",
              "    <tr>\n",
              "      <th>6</th>\n",
              "      <td>transaction6</td>\n",
              "      <td>[I Put A Spell On You, Bury Us Alive, Jackolan...</td>\n",
              "    </tr>\n",
              "    <tr>\n",
              "      <th>7</th>\n",
              "      <td>transaction7</td>\n",
              "      <td>[Hard To See You Happy, One Thousand Times, So...</td>\n",
              "    </tr>\n",
              "    <tr>\n",
              "      <th>8</th>\n",
              "      <td>transaction8</td>\n",
              "      <td>[Twice, 7, Whole Wide World - Unpeeled, Goodby...</td>\n",
              "    </tr>\n",
              "    <tr>\n",
              "      <th>9</th>\n",
              "      <td>transaction9</td>\n",
              "      <td>[Highwayman, Highwayman, Drunk Like You, Fix, ...</td>\n",
              "    </tr>\n",
              "  </tbody>\n",
              "</table>\n",
              "</div>"
            ],
            "text/plain": [
              "    transaction                                          music set\n",
              "0  transaction0  [Lose Control (feat. Ciara & Fat Man Scoop), T...\n",
              "1  transaction1  [Eye of the Tiger, Libera Me From Hell (Tengen...\n",
              "2  transaction2  [Like You, GOOD (feat. ELO), Inferiority Compl...\n",
              "3  transaction3  [Danse macabre, Piano concerto No. 2 in G Mino...\n",
              "4  transaction4  [Tonight, Tonight, Wonderwall - Remastered, I ...\n",
              "5  transaction5  [Teach Me How to Dougie, Party In The U.S.A., ...\n",
              "6  transaction6  [I Put A Spell On You, Bury Us Alive, Jackolan...\n",
              "7  transaction7  [Hard To See You Happy, One Thousand Times, So...\n",
              "8  transaction8  [Twice, 7, Whole Wide World - Unpeeled, Goodby...\n",
              "9  transaction9  [Highwayman, Highwayman, Drunk Like You, Fix, ..."
            ]
          },
          "metadata": {},
          "execution_count": 134
        }
      ]
    },
    {
      "cell_type": "code",
      "metadata": {
        "colab": {
          "base_uri": "https://localhost:8080/"
        },
        "id": "jvmhvTg68znz",
        "outputId": "db38c286-d081-42f1-9958-9c6ad5ec8bff"
      },
      "source": [
        "for val in spotify_arr:\n",
        "    print(val)"
      ],
      "execution_count": 126,
      "outputs": [
        {
          "output_type": "stream",
          "name": "stdout",
          "text": [
            "[['Lose Control (feat. Ciara & Fat Man Scoop)', 'Toxic', 'Crazy In Love', 'Rock Your Body', \"It Wasn't Me\", 'Yeah!', 'My Boo', 'Buttons', 'Say My Name', 'Hey Ya! - Radio Mix / Club Mix', 'Promiscuous', 'Right Where You Want Me - Radio Edit Version', 'Beautiful Soul', \"Leavin'\", 'Me & U', 'Ice Box', 'Sk8er Boi', 'Run It!', 'Check On It - feat. Bun B and Slim Thug', \"Jumpin', Jumpin'\", 'Soak Up The Sun', 'Where Is The Love?', \"Stacy's Mom\", 'Just The Girl', 'Yo (Excuse Me Miss)', 'Year 3000', 'Lip Gloss', 'Everytime We Touch - Radio Edit', 'Whatcha Say', 'Miss Independent', 'Party In The U.S.A.', 'The Great Escape', 'Replay', 'Forever', 'Your Love Is My Drug', 'Closer', 'One Less Lonely Girl', 'Paper Planes', 'Mr. Brightside', 'All The Small Things', 'Beep', 'Somebody To Love', 'Dirty Little Secret', 'Baby', 'A Thousand Miles', 'Livin on Sunday', 'See You Again', 'How Do You Sleep? - Featuring Ludacris', 'This Is Me', 'My Happy Ending', 'Check Yes Juliet', 'The Great Escape'], ['Eye of the Tiger', 'Libera Me From Hell (Tengen Toppa Gurren Lagann)', 'Pokémon Theme', 'Concerning Hobbits (The Lord of the Rings)', 'The Blood of Cuchulainn (The Boondock Saints)', \"He's a Pirate (Pirates of the Caribbean)\", \"Very Bloody Tears (Castlevania II: Simon's Quest)\", 'U.N. Owen Was Her? (Remix)', 'I am the Doctor in Utah', 'The Room Where It Happens', 'Right Hand Man', 'Alexander Hamilton', 'My Shot', 'Stairway To Heaven', 'Shine', 'Ghost Love Score', 'Crazy', 'Sympathy For The Devil', 'Gimme Shelter', 'Free Bird', 'Peace of Mind', 'Foreplay / Long Time', 'Hold the Line', 'Carry on Wayward Son', 'Bohemian Rhapsody - Remastered 2011', 'Sweet Home Alabama', 'More Than a Feeling', 'Kashmir', 'The Majestic Tale (Of A Madman In A Box)', \"Sweet Child O' Mine\", 'Fortunate Son', 'Rock You Like A Hurricane', 'Tom Sawyer', 'Red Barchetta', 'YYZ', 'Limelight', 'The Camera Eye', 'Witch Hunt', 'Vital Signs'], ['Like You', 'GOOD (feat. ELO)', 'Inferiority Complex (feat. Eunha)', 'Ordinary Love', 'Spring Day', 'Ah-Choo', 'BREATHE', 'FXXK WIT US', 'I Will Show You', 'Take Me', '꺼내 먹어요 (Eat)', 'No Make Up', 'Oh NaNa (Hidden. HUR YOUNG JI)', \"Don't Recall\", '양화대교 (Yanghwa Brdg)', 'Some (feat.Geeks Lil Boi)', 'Me Like Yuh', '사실은 The Truth Is', 'Solo (feat. Hoody)', 'Boys and Girls (feat. Babylon)', 'I will go to you like the first snow', 'Rose', 'Aquaman', 'Just One Day', 'WHISTLE - KR Ver.', 'The Manual', 'Heartstrings', 'See My Eyes (Heartstring OST)', \"Can't Stop\", \"You're So Fine\", 'Drive (feat. Gray)', 'Mr. Chu', 'NoNoNo', 'Dream', '두근거려 (Beautiful)', 'Ring My Bell', \"It's Definitely You\", 'LAST DANCE', 'FXXK IT', 'Your Eyes (feat. Jay Park)', \"As If It's Your Last\", 'Untitled, 2014 - KR Ver.', 'OUTRO: Divina Commedia - KR Ver.', 'EYES, NOSE, LIPS - KR Ver.', 'Wedding Dress', '200%', 'STAY - KR Ver.', '21st Century Girl', '전야 前夜 The Eve', 'Hola Hola', 'Roll Deep', 'DINOSAUR', 'Ko Ko Bop', 'That Girl (Feat. Loco)', 'Yacht (K) [feat. Sik-K]', 'Hold Me Tight', 'Cliché', 'What U do?', 'Anck Su Namum', 'Call You Bae', 'Intro: Serendipity', 'DNA', 'dimple', 'MIC Drop'], ['Danse macabre', 'Piano concerto No. 2 in G Minor, Op. 22: Piano concerto No. 2 in G Minor, Op. 22: II. Allegro scherzando', 'Dræm Girl', 'Sad Valentine', \"You Say I'm in Love\", 'Drowsy', 'Serving Goffman', 'Sea Song', 'Fortune Only', 'Looking out for You', 'Necromancer', 'Mistakes', 'Strangest Eyes', \"It's Elizabeth\", 'Pussy of my Dreams', '19', 'Neptune Estate', \"Somebody's Talking\", \"Bent (Roi's Song)\", 'Just Get High', 'I Love Seattle', 'Dark as Days', 'End It Now!', 'When Did Your Heart Go Missing?', 'Signs', 'Under A Rock', 'Two Weeks', 'Yet Again', 'Campus', 'Mess Me Around', 'Talk To Me', 'Trip Switch', 'Heart It Races - Dr Dog Version', 'Big Decisions', \"It's All in Vain\", 'Deadwater', 'C U Girl', 'HOME', 'CONTACTS', \"Can't Come Down\", 'Luv', 'Life Is What You Make It', 'Contraband', 'Miss You', \"Money Won't Pay\", \"I'll Fall\", \"Nothing's Gonna Hurt You Baby\", 'Affection', 'I Like You', 'Strange to Hear', 'Sweet Emotion', 'Pink City', 'First Balloon To Nice', 'Rubdown', 'So Much Love So Little Time', 'Last Of The Good Old Days', 'Screaming', \"Love's Lost Guarantee\", '10:1', 'Crush The Camera', 'Every Moment', 'Endgame', 'El Scorcho', 'Veldt', 'Patroklos', 'suncream', 'Crying in Public', \"It's Your Body 4\", 'Poppies', 'Just Kiss Her', 'Infinity', 'Touch My Body', \"We're Not Just Friends\", 'Tried And True', 'Weak', 'Lucky Girl', 'Stay (Bedroom Tape)', 'Weird Science', 'No One Lives Forever', 'Wild Sex (In The Working Class) - 1988 Boingo Alive Version', 'Only A Lad', 'Private Life - Edited Version', 'i was all over her', \"Hey Good Lookin'\", 'All for Myself', \"Words I Don't Remember\", 'Lost Youth / Lost You', \"What You Won't Do for Love\", \"Don't Want To Know If You Are Lonely\", 'Eight Miles High', 'Turn It Around', \"She's A Woman [And Now He Is A Man]\", 'Crystal', 'Turning Japanese', 'Interference', 'Nothing Lasts', 'Nostalgic Feel', 'Spread A Little Sunshine', 'Drugs', 'Kalte Wut / Wenn Ich Einmal Reich Bin', 'Smoking the Day Away', 'High Plains Anthem', 'Who Got Da Props', 'Chief Rocka', \"Love's Been Good To Me\", 'Listen to the Warm', 'Fatalist Palmistry', 'So Sad, So Sad', 'Cult of Personality', 'Brazil', 'Bethlehem', 'Why iii Love The Moon.', \"I'll Get Along\", 'A Sunday Kind Of Love - Single Version', 'Chemistry', 'Soldiers Requiem', 'Camarilla', 'Vanilla Blue', 'Push', 'Driftless', \"I'm So Ugly\", 'Wounds', 'You Loved Me, You Killed Me', 'Embarrassingly Enough', 'Janitor', 'Elegy'], ['Tonight, Tonight', 'Wonderwall - Remastered', 'I Don\\'t Want to Miss a Thing - From the Touchstone film, \"Armageddon\"', 'Jealousy - Remastered Single Version', 'Waterfalls', '1979', 'Torn', 'Stay', 'Breathe Again', 'Angel', 'Bitter Sweet Symphony', 'Runaway Train', 'The Freshmen', 'White Flag', 'Smooth Operator - Single Version', 'Tom\\'s Diner - 7\" Version', 'Only Wanna Be With You'], ['Teach Me How to Dougie', 'Party In The U.S.A.', 'Shots', 'Ice Ice Baby', 'Shout - Parts 1 & 2', 'Low (feat T-Pain) - Feat T-Pain Album Version', 'The Time (Dirty Bit)', 'OMG', 'Thriller', 'Baby Got Back', 'Yeah!', 'Raise Your Glass', 'Cha Cha Slide - Original Live Platinum Band Mix', 'Sweet Caroline', 'Cupid Shuffle', 'Just Dance', 'Evacuate The Dancefloor', 'One More Time', 'Just Dance', \"Club Can't Handle Me (feat. David Guetta) - Feat. David Guetta\", 'Give Me Everything', 'Party Rock Anthem', 'We Found Love', 'Marry Me', 'Forever', 'Starships', 'At Last - Single Version', 'Play That Funky Music', 'Tootsie Roll', 'The Way You Make Me Feel - Single Version', 'The Time (Dirty Bit)', 'Miami', 'Billie Jean', 'Is This Love - Montmartre Remix', 'Marry Me', 'Thinking Out Loud', 'Marry You', 'I Could Not Ask For More', 'Lucky', 'Kiss Me', 'Best Day Of My Life', 'All My Life', 'Dancing in the Moonlight', 'I Do', 'Single Ladies (Put a Ring on It)', 'You & Me', 'I Gotta Feeling', \"We Can't Stop\", 'I Melt', 'Summer Nights', 'My Wish', 'Life Is A Highway', 'Bless The Broken Road', 'Payback', \"Mary Jane's Last Dance\", 'Dynamite', 'Wasted', 'I Gotta Feeling', 'Ho Hey', 'Right Round - feat. Ke$ha', 'Whistle', 'Good Feeling', 'Jump Around', 'Jump', 'Wifey - Club Mix/Dirty Version', 'Wasted', 'Wall To Wall', 'Beautiful People - Radio Edit', 'Best Day Of My Life', 'This Is How We Roll', 'Love More', 'Rather Be (feat. Jess Glynne)', 'Classic', 'Boom Clap', 'Summer', 'Shower', 'Problem', \"Can't Hold Us - feat. Ray Dalton\", 'Timber', 'Bittersweet Symphony'], ['I Put A Spell On You', 'Bury Us Alive', \"Jackolantern's Weather\", 'S.O.B.', 'Possum Kingdom', 'No One Knows', 'Zombie', 'Monster Mash', 'Ghouls Night Out - Live', 'Hybrid Moments', 'Yeah Yeah', 'Got You (Where I Want You)', 'The Less I Know The Better', 'Chandelier', 'Elastic Heart', 'Dancing Shoes'], ['Hard To See You Happy', 'One Thousand Times', 'Somebody Else', 'Hallucinations', 'Call On Me - Ryan Riback Extended Remix', 'If I Could Change Your Mind', 'Feels', 'Jungle', 'Window Seat', 'Tennessee', 'Livewire', 'Crowded Places', 'I Need a Girl Part 2 (feat. Loon, Ginuwine & Mario Winans)', 'Hyperreal', 'California', 'Eyes Closed', 'Closedloop', 'Selfish', 'Wild Eyed', 'Redbone', '13', 'May I Have This Dance (Remix) [feat. Chance the Rapper]', 'Something Like Chaos', 'Ordinary Madness - Edit', 'All In One Night', 'Nobody - Atom Tree Remix', 'Sun Comes Up - OFFAIAH Remix', 'Bloodstream', 'Bloom - Bonus Track', 'Chasing Shadows', \"I Don't See\", 'The Journey', 'Backbeat - Acoustic', 'No Reason', 'Love In Bad Company', 'Summer Days - Roosevelt Remix', 'Complication', 'Selfish', 'Reap', 'Just The Same', 'Motionless', 'Miss You - HONNE Remix', 'Think About That', 'Sun Comes Up - Heyder Remix', 'Latch', 'Hero', 'No Fear', 'Find Yourself', 'Show Me (feat. Madison Ryann Ward)', 'Little of Your Love - BloodPop® Remix', 'Dynamite (feat. Allday)', 'Attention', 'Altitude'], ['Twice', '7', 'Whole Wide World - Unpeeled', 'Goodbye Angels', 'Too Much To Think', 'She Moves In Her Own Way', 'Love Is Mystical', 'First', 'Waste A Moment', 'What Kind Of Man', 'Ship To Wreck', 'Come Together - Remastered', 'Reverend', 'Cabron', 'Minor Thing', 'Outlaws', 'Ordinary World', 'The Night We Met', 'Let It Be - Remastered', 'Feel It Still', 'Left Hand Free', 'Kathleen', 'Tongue Tied', 'Hey Jude - Remastered 2015', 'I Want To Hold Your Hand - Remastered 2015', 'On Melancholy Hill', 'A-Punk', 'All My Loving - Remastered', 'Mr. Blue Sky', 'Lay Me Down', 'Dog Days Are Over', 'Hard To Concentrate', 'Welcome To Your Life', 'Soul To Squeeze', 'Red Red Wine - Edit', 'Yesterday - Remastered', 'Soul Meets Body', 'I Could Die For You', 'Help! - Remastered', 'Daydream Believer', 'Revolution - Remastered', 'Rainbow', 'Soundcheck', 'Young Blood', 'Make You Feel Better', 'Take It or Leave It'], ['Highwayman', 'Highwayman', 'Drunk Like You', 'Fix', \"It's A Great Day To Be Alive\", 'Chattahoochee - Extended Mix', \"Eatin' Pussy/Kickin' Ass\", 'Ballad Of A Southern Man', 'Somewhere Down in Texas', 'Diamond In My Pocket', \"I'm Bringin' Home Good News\", 'Branded Man - 2001 Digital Remaster', \"Jack Daniel's, If You Please\", \"Goin' Through The Big D\", 'Out of Hand', 'Kentucky Gambler', \"Killin' Time\", \"The Fightin' Side Of Me\", 'Neon Moon', 'Hometown Girl', \"Drinkin' Problem\"], ['Big Lie', \"All We Got (feat. Kanye West & Chicago Children's Choir)\", 'Planez', 'Rich As Fuck', 'The Show Goes On', 'Tiimmy Turner', 'Chillin', 'T-Shirt', 'Portland', 'Light', \"Don't\", 'Who Do You Love?', 'Jump Out The Face (feat. Future)', 'My Last', 'Say Something (Featuring Drake)', 'Studio', 'Deadroses', 'make daddy proud', 'G.O.M.D.', 'Nothing But Trouble - Instagram Models', \"I Don't Fuck With You\", 'Drowning (feat. Kodak Black)', 'goosebumps', 'STFU', 'Exposed', 'Slippery (feat. Gucci Mane)', 'm.A.A.d city', 'Yellow', 'Juke Jam (feat. Justin Bieber & Towkio)', 'Bodak Yellow', 'Preach', 'Shell Shocked (feat. Kill The Noise & Madsonik) - From \"Teenage Mutant Ninja Turtles\"', 'Marmalade (feat. Lil Yachty)', 'Go Flex', 'Do It Myself', 'Come Get Her', 'Drop The World', 'Remember The Name (feat. Styles Of Beyond)', 'Deja Vu', 'Straightjacket', 'White Walls (feat. ScHoolboy Q, Hollis)', 'Break The Bitch Down (feat. K. Camp)', 'No Type', 'D U Down', 'Fuckin Right', 'GOMD', 'Hot N*gga', 'Thinking With My D**k (feat. Juciy J)', 'No Flockin', \"Say A'\", 'Butterfly Effect', 'Verbatim', 'Sniffing Vicodin In Paris (Danny Olson Remix) [feat. Danny Olson]', 'Molly (feat. Brendon Urie of Panic at the Disco)', 'First Day Out', 'Horses (with PnB Rock, Kodak Black & A Boogie Wit da Hoodie)', 'Headlines', 'Lemme Freak', 'Blunt Blowin', 'Pop That', 'oui', 'How To Love', 'Dreams and Nightmares', 'Real Hitta (feat. Kodak Black)', 'The Girls On Drugs', 'Up Like Trump', 'Throw Sum Mo', 'These Days', 'Drama', 'Swish', 'Let the Games Begin', 'All That Talk']]\n",
            "['Lose Control (feat. Ciara & Fat Man Scoop)', 'Toxic', 'Crazy In Love', 'Rock Your Body', \"It Wasn't Me\", 'Yeah!', 'My Boo', 'Buttons', 'Say My Name', 'Hey Ya! - Radio Mix / Club Mix', 'Promiscuous', 'Right Where You Want Me - Radio Edit Version', 'Beautiful Soul', \"Leavin'\", 'Me & U', 'Ice Box', 'Sk8er Boi', 'Run It!', 'Check On It - feat. Bun B and Slim Thug', \"Jumpin', Jumpin'\", 'Soak Up The Sun', 'Where Is The Love?', \"Stacy's Mom\", 'Just The Girl', 'Yo (Excuse Me Miss)', 'Year 3000', 'Lip Gloss', 'Everytime We Touch - Radio Edit', 'Whatcha Say', 'Miss Independent', 'Party In The U.S.A.', 'The Great Escape', 'Replay', 'Forever', 'Your Love Is My Drug', 'Closer', 'One Less Lonely Girl', 'Paper Planes', 'Mr. Brightside', 'All The Small Things', 'Beep', 'Somebody To Love', 'Dirty Little Secret', 'Baby', 'A Thousand Miles', 'Livin on Sunday', 'See You Again', 'How Do You Sleep? - Featuring Ludacris', 'This Is Me', 'My Happy Ending', 'Check Yes Juliet', 'The Great Escape']\n",
            "['Eye of the Tiger', 'Libera Me From Hell (Tengen Toppa Gurren Lagann)', 'Pokémon Theme', 'Concerning Hobbits (The Lord of the Rings)', 'The Blood of Cuchulainn (The Boondock Saints)', \"He's a Pirate (Pirates of the Caribbean)\", \"Very Bloody Tears (Castlevania II: Simon's Quest)\", 'U.N. Owen Was Her? (Remix)', 'I am the Doctor in Utah', 'The Room Where It Happens', 'Right Hand Man', 'Alexander Hamilton', 'My Shot', 'Stairway To Heaven', 'Shine', 'Ghost Love Score', 'Crazy', 'Sympathy For The Devil', 'Gimme Shelter', 'Free Bird', 'Peace of Mind', 'Foreplay / Long Time', 'Hold the Line', 'Carry on Wayward Son', 'Bohemian Rhapsody - Remastered 2011', 'Sweet Home Alabama', 'More Than a Feeling', 'Kashmir', 'The Majestic Tale (Of A Madman In A Box)', \"Sweet Child O' Mine\", 'Fortunate Son', 'Rock You Like A Hurricane', 'Tom Sawyer', 'Red Barchetta', 'YYZ', 'Limelight', 'The Camera Eye', 'Witch Hunt', 'Vital Signs']\n",
            "['Like You', 'GOOD (feat. ELO)', 'Inferiority Complex (feat. Eunha)', 'Ordinary Love', 'Spring Day', 'Ah-Choo', 'BREATHE', 'FXXK WIT US', 'I Will Show You', 'Take Me', '꺼내 먹어요 (Eat)', 'No Make Up', 'Oh NaNa (Hidden. HUR YOUNG JI)', \"Don't Recall\", '양화대교 (Yanghwa Brdg)', 'Some (feat.Geeks Lil Boi)', 'Me Like Yuh', '사실은 The Truth Is', 'Solo (feat. Hoody)', 'Boys and Girls (feat. Babylon)', 'I will go to you like the first snow', 'Rose', 'Aquaman', 'Just One Day', 'WHISTLE - KR Ver.', 'The Manual', 'Heartstrings', 'See My Eyes (Heartstring OST)', \"Can't Stop\", \"You're So Fine\", 'Drive (feat. Gray)', 'Mr. Chu', 'NoNoNo', 'Dream', '두근거려 (Beautiful)', 'Ring My Bell', \"It's Definitely You\", 'LAST DANCE', 'FXXK IT', 'Your Eyes (feat. Jay Park)', \"As If It's Your Last\", 'Untitled, 2014 - KR Ver.', 'OUTRO: Divina Commedia - KR Ver.', 'EYES, NOSE, LIPS - KR Ver.', 'Wedding Dress', '200%', 'STAY - KR Ver.', '21st Century Girl', '전야 前夜 The Eve', 'Hola Hola', 'Roll Deep', 'DINOSAUR', 'Ko Ko Bop', 'That Girl (Feat. Loco)', 'Yacht (K) [feat. Sik-K]', 'Hold Me Tight', 'Cliché', 'What U do?', 'Anck Su Namum', 'Call You Bae', 'Intro: Serendipity', 'DNA', 'dimple', 'MIC Drop']\n",
            "['Danse macabre', 'Piano concerto No. 2 in G Minor, Op. 22: Piano concerto No. 2 in G Minor, Op. 22: II. Allegro scherzando', 'Dræm Girl', 'Sad Valentine', \"You Say I'm in Love\", 'Drowsy', 'Serving Goffman', 'Sea Song', 'Fortune Only', 'Looking out for You', 'Necromancer', 'Mistakes', 'Strangest Eyes', \"It's Elizabeth\", 'Pussy of my Dreams', '19', 'Neptune Estate', \"Somebody's Talking\", \"Bent (Roi's Song)\", 'Just Get High', 'I Love Seattle', 'Dark as Days', 'End It Now!', 'When Did Your Heart Go Missing?', 'Signs', 'Under A Rock', 'Two Weeks', 'Yet Again', 'Campus', 'Mess Me Around', 'Talk To Me', 'Trip Switch', 'Heart It Races - Dr Dog Version', 'Big Decisions', \"It's All in Vain\", 'Deadwater', 'C U Girl', 'HOME', 'CONTACTS', \"Can't Come Down\", 'Luv', 'Life Is What You Make It', 'Contraband', 'Miss You', \"Money Won't Pay\", \"I'll Fall\", \"Nothing's Gonna Hurt You Baby\", 'Affection', 'I Like You', 'Strange to Hear', 'Sweet Emotion', 'Pink City', 'First Balloon To Nice', 'Rubdown', 'So Much Love So Little Time', 'Last Of The Good Old Days', 'Screaming', \"Love's Lost Guarantee\", '10:1', 'Crush The Camera', 'Every Moment', 'Endgame', 'El Scorcho', 'Veldt', 'Patroklos', 'suncream', 'Crying in Public', \"It's Your Body 4\", 'Poppies', 'Just Kiss Her', 'Infinity', 'Touch My Body', \"We're Not Just Friends\", 'Tried And True', 'Weak', 'Lucky Girl', 'Stay (Bedroom Tape)', 'Weird Science', 'No One Lives Forever', 'Wild Sex (In The Working Class) - 1988 Boingo Alive Version', 'Only A Lad', 'Private Life - Edited Version', 'i was all over her', \"Hey Good Lookin'\", 'All for Myself', \"Words I Don't Remember\", 'Lost Youth / Lost You', \"What You Won't Do for Love\", \"Don't Want To Know If You Are Lonely\", 'Eight Miles High', 'Turn It Around', \"She's A Woman [And Now He Is A Man]\", 'Crystal', 'Turning Japanese', 'Interference', 'Nothing Lasts', 'Nostalgic Feel', 'Spread A Little Sunshine', 'Drugs', 'Kalte Wut / Wenn Ich Einmal Reich Bin', 'Smoking the Day Away', 'High Plains Anthem', 'Who Got Da Props', 'Chief Rocka', \"Love's Been Good To Me\", 'Listen to the Warm', 'Fatalist Palmistry', 'So Sad, So Sad', 'Cult of Personality', 'Brazil', 'Bethlehem', 'Why iii Love The Moon.', \"I'll Get Along\", 'A Sunday Kind Of Love - Single Version', 'Chemistry', 'Soldiers Requiem', 'Camarilla', 'Vanilla Blue', 'Push', 'Driftless', \"I'm So Ugly\", 'Wounds', 'You Loved Me, You Killed Me', 'Embarrassingly Enough', 'Janitor', 'Elegy']\n",
            "['Tonight, Tonight', 'Wonderwall - Remastered', 'I Don\\'t Want to Miss a Thing - From the Touchstone film, \"Armageddon\"', 'Jealousy - Remastered Single Version', 'Waterfalls', '1979', 'Torn', 'Stay', 'Breathe Again', 'Angel', 'Bitter Sweet Symphony', 'Runaway Train', 'The Freshmen', 'White Flag', 'Smooth Operator - Single Version', 'Tom\\'s Diner - 7\" Version', 'Only Wanna Be With You']\n",
            "['Teach Me How to Dougie', 'Party In The U.S.A.', 'Shots', 'Ice Ice Baby', 'Shout - Parts 1 & 2', 'Low (feat T-Pain) - Feat T-Pain Album Version', 'The Time (Dirty Bit)', 'OMG', 'Thriller', 'Baby Got Back', 'Yeah!', 'Raise Your Glass', 'Cha Cha Slide - Original Live Platinum Band Mix', 'Sweet Caroline', 'Cupid Shuffle', 'Just Dance', 'Evacuate The Dancefloor', 'One More Time', 'Just Dance', \"Club Can't Handle Me (feat. David Guetta) - Feat. David Guetta\", 'Give Me Everything', 'Party Rock Anthem', 'We Found Love', 'Marry Me', 'Forever', 'Starships', 'At Last - Single Version', 'Play That Funky Music', 'Tootsie Roll', 'The Way You Make Me Feel - Single Version', 'The Time (Dirty Bit)', 'Miami', 'Billie Jean', 'Is This Love - Montmartre Remix', 'Marry Me', 'Thinking Out Loud', 'Marry You', 'I Could Not Ask For More', 'Lucky', 'Kiss Me', 'Best Day Of My Life', 'All My Life', 'Dancing in the Moonlight', 'I Do', 'Single Ladies (Put a Ring on It)', 'You & Me', 'I Gotta Feeling', \"We Can't Stop\", 'I Melt', 'Summer Nights', 'My Wish', 'Life Is A Highway', 'Bless The Broken Road', 'Payback', \"Mary Jane's Last Dance\", 'Dynamite', 'Wasted', 'I Gotta Feeling', 'Ho Hey', 'Right Round - feat. Ke$ha', 'Whistle', 'Good Feeling', 'Jump Around', 'Jump', 'Wifey - Club Mix/Dirty Version', 'Wasted', 'Wall To Wall', 'Beautiful People - Radio Edit', 'Best Day Of My Life', 'This Is How We Roll', 'Love More', 'Rather Be (feat. Jess Glynne)', 'Classic', 'Boom Clap', 'Summer', 'Shower', 'Problem', \"Can't Hold Us - feat. Ray Dalton\", 'Timber', 'Bittersweet Symphony']\n",
            "['I Put A Spell On You', 'Bury Us Alive', \"Jackolantern's Weather\", 'S.O.B.', 'Possum Kingdom', 'No One Knows', 'Zombie', 'Monster Mash', 'Ghouls Night Out - Live', 'Hybrid Moments', 'Yeah Yeah', 'Got You (Where I Want You)', 'The Less I Know The Better', 'Chandelier', 'Elastic Heart', 'Dancing Shoes']\n",
            "['Hard To See You Happy', 'One Thousand Times', 'Somebody Else', 'Hallucinations', 'Call On Me - Ryan Riback Extended Remix', 'If I Could Change Your Mind', 'Feels', 'Jungle', 'Window Seat', 'Tennessee', 'Livewire', 'Crowded Places', 'I Need a Girl Part 2 (feat. Loon, Ginuwine & Mario Winans)', 'Hyperreal', 'California', 'Eyes Closed', 'Closedloop', 'Selfish', 'Wild Eyed', 'Redbone', '13', 'May I Have This Dance (Remix) [feat. Chance the Rapper]', 'Something Like Chaos', 'Ordinary Madness - Edit', 'All In One Night', 'Nobody - Atom Tree Remix', 'Sun Comes Up - OFFAIAH Remix', 'Bloodstream', 'Bloom - Bonus Track', 'Chasing Shadows', \"I Don't See\", 'The Journey', 'Backbeat - Acoustic', 'No Reason', 'Love In Bad Company', 'Summer Days - Roosevelt Remix', 'Complication', 'Selfish', 'Reap', 'Just The Same', 'Motionless', 'Miss You - HONNE Remix', 'Think About That', 'Sun Comes Up - Heyder Remix', 'Latch', 'Hero', 'No Fear', 'Find Yourself', 'Show Me (feat. Madison Ryann Ward)', 'Little of Your Love - BloodPop® Remix', 'Dynamite (feat. Allday)', 'Attention', 'Altitude']\n",
            "['Twice', '7', 'Whole Wide World - Unpeeled', 'Goodbye Angels', 'Too Much To Think', 'She Moves In Her Own Way', 'Love Is Mystical', 'First', 'Waste A Moment', 'What Kind Of Man', 'Ship To Wreck', 'Come Together - Remastered', 'Reverend', 'Cabron', 'Minor Thing', 'Outlaws', 'Ordinary World', 'The Night We Met', 'Let It Be - Remastered', 'Feel It Still', 'Left Hand Free', 'Kathleen', 'Tongue Tied', 'Hey Jude - Remastered 2015', 'I Want To Hold Your Hand - Remastered 2015', 'On Melancholy Hill', 'A-Punk', 'All My Loving - Remastered', 'Mr. Blue Sky', 'Lay Me Down', 'Dog Days Are Over', 'Hard To Concentrate', 'Welcome To Your Life', 'Soul To Squeeze', 'Red Red Wine - Edit', 'Yesterday - Remastered', 'Soul Meets Body', 'I Could Die For You', 'Help! - Remastered', 'Daydream Believer', 'Revolution - Remastered', 'Rainbow', 'Soundcheck', 'Young Blood', 'Make You Feel Better', 'Take It or Leave It']\n",
            "['Highwayman', 'Highwayman', 'Drunk Like You', 'Fix', \"It's A Great Day To Be Alive\", 'Chattahoochee - Extended Mix', \"Eatin' Pussy/Kickin' Ass\", 'Ballad Of A Southern Man', 'Somewhere Down in Texas', 'Diamond In My Pocket', \"I'm Bringin' Home Good News\", 'Branded Man - 2001 Digital Remaster', \"Jack Daniel's, If You Please\", \"Goin' Through The Big D\", 'Out of Hand', 'Kentucky Gambler', \"Killin' Time\", \"The Fightin' Side Of Me\", 'Neon Moon', 'Hometown Girl', \"Drinkin' Problem\"]\n",
            "['Big Lie', \"All We Got (feat. Kanye West & Chicago Children's Choir)\", 'Planez', 'Rich As Fuck', 'The Show Goes On', 'Tiimmy Turner', 'Chillin', 'T-Shirt', 'Portland', 'Light', \"Don't\", 'Who Do You Love?', 'Jump Out The Face (feat. Future)', 'My Last', 'Say Something (Featuring Drake)', 'Studio', 'Deadroses', 'make daddy proud', 'G.O.M.D.', 'Nothing But Trouble - Instagram Models', \"I Don't Fuck With You\", 'Drowning (feat. Kodak Black)', 'goosebumps', 'STFU', 'Exposed', 'Slippery (feat. Gucci Mane)', 'm.A.A.d city', 'Yellow', 'Juke Jam (feat. Justin Bieber & Towkio)', 'Bodak Yellow', 'Preach', 'Shell Shocked (feat. Kill The Noise & Madsonik) - From \"Teenage Mutant Ninja Turtles\"', 'Marmalade (feat. Lil Yachty)', 'Go Flex', 'Do It Myself', 'Come Get Her', 'Drop The World', 'Remember The Name (feat. Styles Of Beyond)', 'Deja Vu', 'Straightjacket', 'White Walls (feat. ScHoolboy Q, Hollis)', 'Break The Bitch Down (feat. K. Camp)', 'No Type', 'D U Down', 'Fuckin Right', 'GOMD', 'Hot N*gga', 'Thinking With My D**k (feat. Juciy J)', 'No Flockin', \"Say A'\", 'Butterfly Effect', 'Verbatim', 'Sniffing Vicodin In Paris (Danny Olson Remix) [feat. Danny Olson]', 'Molly (feat. Brendon Urie of Panic at the Disco)', 'First Day Out', 'Horses (with PnB Rock, Kodak Black & A Boogie Wit da Hoodie)', 'Headlines', 'Lemme Freak', 'Blunt Blowin', 'Pop That', 'oui', 'How To Love', 'Dreams and Nightmares', 'Real Hitta (feat. Kodak Black)', 'The Girls On Drugs', 'Up Like Trump', 'Throw Sum Mo', 'These Days', 'Drama', 'Swish', 'Let the Games Begin', 'All That Talk']\n"
          ]
        }
      ]
    },
    {
      "cell_type": "markdown",
      "metadata": {
        "id": "TREoWkSFCP87"
      },
      "source": [
        "## datos de prueba para en la implementación del algoritmo"
      ]
    },
    {
      "cell_type": "code",
      "metadata": {
        "id": "ZXttEEpxy8uW"
      },
      "source": [
        "data = [\n",
        "        ['bread', 'milk'],\n",
        "        ['bread', 'diapers', 'beer', 'eggs'],\n",
        "        ['milk', 'diapers', 'beer', 'cola'],\n",
        "        ['bread', 'milk', 'diapers', 'beer'],\n",
        "        ['bread', 'milk', 'diapers', 'cola']]"
      ],
      "execution_count": 129,
      "outputs": []
    },
    {
      "cell_type": "markdown",
      "metadata": {
        "id": "O6ozRNmoCiBf"
      },
      "source": [
        "# Implementación del algoritmo apriori"
      ]
    },
    {
      "cell_type": "markdown",
      "metadata": {
        "id": "c1kxeDgSCvS3"
      },
      "source": [
        "función que crea combinaciones de candidatos con $(k > 1)$"
      ]
    },
    {
      "cell_type": "code",
      "metadata": {
        "id": "KcoRIzyrrUbi"
      },
      "source": [
        "def create_candidate(freq_item, k):\n",
        "    ans = []\n",
        "    if k > 0:\n",
        "        for set1, set2 in combinations(freq_item, 2):\n",
        "            if len(set1 & set2) == k:\n",
        "                item = set1 | set2\n",
        "                if item not in ans:\n",
        "                    ans.append(item)\n",
        "    else:\n",
        "        for set1, set2 in combinations(freq_item, 2):\n",
        "            item = set1 | set2\n",
        "            ans.append(item)\n",
        "    return ans"
      ],
      "execution_count": 45,
      "outputs": []
    },
    {
      "cell_type": "markdown",
      "metadata": {
        "id": "diqDRTKADqF0"
      },
      "source": [
        "función que crea la frecuencia de k-items y en base a los candidatos que obtienen de la funcion anterior que tengan el $soporte \\ge minsuport$"
      ]
    },
    {
      "cell_type": "code",
      "metadata": {
        "id": "ylieCJi---sN"
      },
      "source": [
        "def create_freq(data, ck, min_support):\n",
        "    counted = {}\n",
        "    for tran in data:\n",
        "        for item in ck:\n",
        "            if item.issubset(tran):\n",
        "                if item not in counted:\n",
        "                    counted[item] = 1\n",
        "                else: counted[item] += 1\n",
        "    \n",
        "    N = len(data)\n",
        "    freq_item = []\n",
        "    item_suport = {}\n",
        "    for item in counted:\n",
        "        support = counted[item]/N\n",
        "        if support >= min_support:\n",
        "            freq_item.append(item)\n",
        "        item_suport[item] = support\n",
        "    return freq_item, item_suport"
      ],
      "execution_count": 4,
      "outputs": []
    },
    {
      "cell_type": "markdown",
      "metadata": {
        "id": "7yuCLnE4GeRx"
      },
      "source": [
        "función que genera el con todos los conjuntos de items que $σ > N(minsuport)$"
      ]
    },
    {
      "cell_type": "code",
      "metadata": {
        "id": "6HtHTyZ40BFu"
      },
      "source": [
        "def get_frequent_itemsets(data, min_support):\n",
        "\n",
        "    counted = {}\n",
        "    for transaction in data:\n",
        "        for item in transaction:\n",
        "            if item not in counted:\n",
        "                counted[item] = 1\n",
        "            else: counted[item] += 1\n",
        "\n",
        "    N = len(data)\n",
        "    candidate = list()\n",
        "    for item in counted:\n",
        "        support = counted[item]/N\n",
        "        if support >= min_support:\n",
        "            candidate.append(frozenset([item]))\n",
        "\n",
        "    # candidate = find_one_itemsets(data, min_support)\n",
        "    \n",
        "    freq_item, item_support_dict = create_freq(data, candidate, min_support)\n",
        "    freq_itemsets = [freq_item]\n",
        "    k = 0\n",
        "    while len(freq_itemsets[k]) > 0:\n",
        "        freq_item = freq_itemsets[k]\n",
        "        k_candidates = create_candidate(freq_item, k)\n",
        "        freq_item, item_support = create_freq(data, k_candidates, min_support)\n",
        "        freq_itemsets.append(freq_item)\n",
        "        item_support_dict.update(item_support)\n",
        "        k += 1\n",
        "    # freq_items = list(map(lambda fset: list(map(list, fset)), freq_itemsets))\n",
        "\n",
        "    # for key, val in list(item_support_dict.items()):\n",
        "    #     item_support_dict[tuple(key)] = item_support_dict.pop(key)\n",
        "    \n",
        "    return freq_itemsets, item_support_dict"
      ],
      "execution_count": 46,
      "outputs": []
    },
    {
      "cell_type": "markdown",
      "metadata": {
        "id": "Ox0BHEhSHiBH"
      },
      "source": [
        "función que filtra $confidence$ y $lift$"
      ]
    },
    {
      "cell_type": "code",
      "metadata": {
        "id": "OJ2wfHnCnVmb"
      },
      "source": [
        "def find_confindence_lift(freq_items, item_support_dict, freq_set, subsets, min_confidence, min_lift):\n",
        "\n",
        "    rules = []\n",
        "    consequent = []\n",
        "    \n",
        "    for rhs in subsets:\n",
        "        lhs = freq_set - rhs\n",
        "        conf = item_support_dict[freq_set] / item_support_dict[lhs]\n",
        "        if conf >= min_confidence:\n",
        "            lift = conf / item_support_dict[rhs]\n",
        "            if lift >= min_lift:\n",
        "                rules_info = lhs, rhs, item_support_dict[rhs], conf, lift\n",
        "                rules.append(rules_info)\n",
        "                consequent.append(rhs)\n",
        "            \n",
        "    return rules, consequent"
      ],
      "execution_count": 68,
      "outputs": []
    },
    {
      "cell_type": "markdown",
      "metadata": {
        "id": "WkqeOAdzHeCV"
      },
      "source": [
        "Función que genera reglas de asociacion en base al frecuanica de los itemsets, con parametors (data, filtros: support, confidence, lift), retorna data frame de pandas. "
      ]
    },
    {
      "cell_type": "code",
      "metadata": {
        "id": "GKfz5GH5k-kT"
      },
      "source": [
        "def generate_association_rules(data, min_support=0.5, min_confidence=0.5, min_lift=1.2):\n",
        "    frequent_itemsets, item_support_dict = get_frequent_itemsets(data, min_support)\n",
        "    association_rules = []\n",
        "    for i, freq_item in enumerate(frequent_itemsets[1:(len(frequent_itemsets) - 1)]):\n",
        "        for freq_set in freq_item:\n",
        "            \n",
        "            subsets = [frozenset([item]) for item in freq_set]\n",
        "            rules, consequent = find_confindence_lift(frequent_itemsets, item_support_dict, freq_set, subsets, min_confidence, min_lift)\n",
        "            association_rules.extend(rules)\n",
        "            \n",
        "            if i != 0:\n",
        "                k = 0\n",
        "                while len(consequent) > 0 and len(consequent[0]) < len(freq_set) - 1:\n",
        "                    ck = create_candidate(consequent, k = k)\n",
        "                    rules, consequent = find_confindence_lift(frequent_itemsets, item_support_dict, freq_set, ck, min_confidence, min_lift)\n",
        "                    association_rules.extend(rules)\n",
        "                    k += 1    \n",
        "    association_rules = list(map(lambda fset: list(map(lambda item: list(item) if type(item) is frozenset else item, fset)), association_rules))\n",
        "\n",
        "    return pd.DataFrame(association_rules, columns=['itemset1', 'itemst2', 'support', 'confidence', 'lift'])"
      ],
      "execution_count": 73,
      "outputs": []
    },
    {
      "cell_type": "markdown",
      "metadata": {
        "id": "wlr8SOdKLH7n"
      },
      "source": [
        "# Ejecución de la prueba de con un grupo pequeño de datos *spotify*"
      ]
    },
    {
      "cell_type": "code",
      "metadata": {
        "colab": {
          "base_uri": "https://localhost:8080/",
          "height": 425
        },
        "id": "k6-cp4Q5qWuI",
        "outputId": "4c9b32c9-9ba1-4798-bb4d-46b3b631ed0d"
      },
      "source": [
        "spotify_association_rules = generate_association_rules(spotify_arr, min_support=0.1, min_confidence=0.5, min_lift=0.9)\n",
        "spotify_association_rules.head(25)\n"
      ],
      "execution_count": 146,
      "outputs": [
        {
          "output_type": "execute_result",
          "data": {
            "text/html": [
              "<div>\n",
              "<style scoped>\n",
              "    .dataframe tbody tr th:only-of-type {\n",
              "        vertical-align: middle;\n",
              "    }\n",
              "\n",
              "    .dataframe tbody tr th {\n",
              "        vertical-align: top;\n",
              "    }\n",
              "\n",
              "    .dataframe thead th {\n",
              "        text-align: right;\n",
              "    }\n",
              "</style>\n",
              "<table border=\"1\" class=\"dataframe\">\n",
              "  <thead>\n",
              "    <tr style=\"text-align: right;\">\n",
              "      <th></th>\n",
              "      <th>itemset1</th>\n",
              "      <th>itemst2</th>\n",
              "      <th>support</th>\n",
              "      <th>confidence</th>\n",
              "      <th>lift</th>\n",
              "    </tr>\n",
              "  </thead>\n",
              "  <tbody>\n",
              "    <tr>\n",
              "      <th>0</th>\n",
              "      <td>[Party In The U.S.A.]</td>\n",
              "      <td>[Yeah!]</td>\n",
              "      <td>0.181818</td>\n",
              "      <td>1.0</td>\n",
              "      <td>5.5</td>\n",
              "    </tr>\n",
              "    <tr>\n",
              "      <th>1</th>\n",
              "      <td>[Yeah!]</td>\n",
              "      <td>[Party In The U.S.A.]</td>\n",
              "      <td>0.181818</td>\n",
              "      <td>1.0</td>\n",
              "      <td>5.5</td>\n",
              "    </tr>\n",
              "    <tr>\n",
              "      <th>2</th>\n",
              "      <td>[Yeah!]</td>\n",
              "      <td>[Forever]</td>\n",
              "      <td>0.181818</td>\n",
              "      <td>1.0</td>\n",
              "      <td>5.5</td>\n",
              "    </tr>\n",
              "    <tr>\n",
              "      <th>3</th>\n",
              "      <td>[Forever]</td>\n",
              "      <td>[Yeah!]</td>\n",
              "      <td>0.181818</td>\n",
              "      <td>1.0</td>\n",
              "      <td>5.5</td>\n",
              "    </tr>\n",
              "    <tr>\n",
              "      <th>4</th>\n",
              "      <td>[Party In The U.S.A.]</td>\n",
              "      <td>[Forever]</td>\n",
              "      <td>0.181818</td>\n",
              "      <td>1.0</td>\n",
              "      <td>5.5</td>\n",
              "    </tr>\n",
              "    <tr>\n",
              "      <th>5</th>\n",
              "      <td>[Forever]</td>\n",
              "      <td>[Party In The U.S.A.]</td>\n",
              "      <td>0.181818</td>\n",
              "      <td>1.0</td>\n",
              "      <td>5.5</td>\n",
              "    </tr>\n",
              "    <tr>\n",
              "      <th>6</th>\n",
              "      <td>[Yeah!, Party In The U.S.A.]</td>\n",
              "      <td>[Forever]</td>\n",
              "      <td>0.181818</td>\n",
              "      <td>1.0</td>\n",
              "      <td>5.5</td>\n",
              "    </tr>\n",
              "    <tr>\n",
              "      <th>7</th>\n",
              "      <td>[Forever, Party In The U.S.A.]</td>\n",
              "      <td>[Yeah!]</td>\n",
              "      <td>0.181818</td>\n",
              "      <td>1.0</td>\n",
              "      <td>5.5</td>\n",
              "    </tr>\n",
              "    <tr>\n",
              "      <th>8</th>\n",
              "      <td>[Yeah!, Forever]</td>\n",
              "      <td>[Party In The U.S.A.]</td>\n",
              "      <td>0.181818</td>\n",
              "      <td>1.0</td>\n",
              "      <td>5.5</td>\n",
              "    </tr>\n",
              "    <tr>\n",
              "      <th>9</th>\n",
              "      <td>[Party In The U.S.A.]</td>\n",
              "      <td>[Yeah!, Forever]</td>\n",
              "      <td>0.181818</td>\n",
              "      <td>1.0</td>\n",
              "      <td>5.5</td>\n",
              "    </tr>\n",
              "    <tr>\n",
              "      <th>10</th>\n",
              "      <td>[Yeah!]</td>\n",
              "      <td>[Forever, Party In The U.S.A.]</td>\n",
              "      <td>0.181818</td>\n",
              "      <td>1.0</td>\n",
              "      <td>5.5</td>\n",
              "    </tr>\n",
              "    <tr>\n",
              "      <th>11</th>\n",
              "      <td>[Forever]</td>\n",
              "      <td>[Yeah!, Party In The U.S.A.]</td>\n",
              "      <td>0.181818</td>\n",
              "      <td>1.0</td>\n",
              "      <td>5.5</td>\n",
              "    </tr>\n",
              "  </tbody>\n",
              "</table>\n",
              "</div>"
            ],
            "text/plain": [
              "                          itemset1  ... lift\n",
              "0            [Party In The U.S.A.]  ...  5.5\n",
              "1                          [Yeah!]  ...  5.5\n",
              "2                          [Yeah!]  ...  5.5\n",
              "3                        [Forever]  ...  5.5\n",
              "4            [Party In The U.S.A.]  ...  5.5\n",
              "5                        [Forever]  ...  5.5\n",
              "6     [Yeah!, Party In The U.S.A.]  ...  5.5\n",
              "7   [Forever, Party In The U.S.A.]  ...  5.5\n",
              "8                 [Yeah!, Forever]  ...  5.5\n",
              "9            [Party In The U.S.A.]  ...  5.5\n",
              "10                         [Yeah!]  ...  5.5\n",
              "11                       [Forever]  ...  5.5\n",
              "\n",
              "[12 rows x 5 columns]"
            ]
          },
          "metadata": {},
          "execution_count": 146
        }
      ]
    },
    {
      "cell_type": "markdown",
      "metadata": {
        "id": "n3BaUQDTM7N7"
      },
      "source": [
        "En los resultados obtenidos tenemos que si una persona que escucha las canciones { Forever, Party In The U.S.A } implica que tambine puede escuhar el tema { Yeah! } ya que tiene un $(lift > 1)$"
      ]
    }
  ]
}