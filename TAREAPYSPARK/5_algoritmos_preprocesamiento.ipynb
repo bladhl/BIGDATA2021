{
  "nbformat": 4,
  "nbformat_minor": 0,
  "metadata": {
    "colab": {
      "name": "5-algoritmos-preprocesamiento.ipynb",
      "provenance": []
    },
    "kernelspec": {
      "name": "python3",
      "display_name": "Python 3"
    },
    "language_info": {
      "name": "python"
    }
  },
  "cells": [
    {
      "cell_type": "code",
      "execution_count": 1,
      "metadata": {
        "id": "1OI6H5r7_lXF",
        "colab": {
          "base_uri": "https://localhost:8080/"
        },
        "outputId": "b0a044a6-1765-4081-cb66-36455ebdbbc6"
      },
      "outputs": [
        {
          "output_type": "stream",
          "name": "stdout",
          "text": [
            "Collecting pyspark\n",
            "  Downloading pyspark-3.2.0.tar.gz (281.3 MB)\n",
            "\u001b[K     |████████████████████████████████| 281.3 MB 39 kB/s \n",
            "\u001b[?25hCollecting py4j==0.10.9.2\n",
            "  Downloading py4j-0.10.9.2-py2.py3-none-any.whl (198 kB)\n",
            "\u001b[K     |████████████████████████████████| 198 kB 64.3 MB/s \n",
            "\u001b[?25hBuilding wheels for collected packages: pyspark\n",
            "  Building wheel for pyspark (setup.py) ... \u001b[?25l\u001b[?25hdone\n",
            "  Created wheel for pyspark: filename=pyspark-3.2.0-py2.py3-none-any.whl size=281805912 sha256=526152c795c1a7a58438e2a2a2b9f336d9c4c9074d46efaf8dbc55013af9989c\n",
            "  Stored in directory: /root/.cache/pip/wheels/0b/de/d2/9be5d59d7331c6c2a7c1b6d1a4f463ce107332b1ecd4e80718\n",
            "Successfully built pyspark\n",
            "Installing collected packages: py4j, pyspark\n",
            "Successfully installed py4j-0.10.9.2 pyspark-3.2.0\n"
          ]
        }
      ],
      "source": [
        "!pip install pyspark"
      ]
    },
    {
      "cell_type": "code",
      "source": [
        "from pyspark.sql import SparkSession\n",
        "from operator import add"
      ],
      "metadata": {
        "id": "dDY3LrBXbPqY"
      },
      "execution_count": 2,
      "outputs": []
    },
    {
      "cell_type": "code",
      "source": [
        "import math"
      ],
      "metadata": {
        "id": "Q0qvHQdvw6ZO"
      },
      "execution_count": 13,
      "outputs": []
    },
    {
      "cell_type": "code",
      "source": [
        "spark = SparkSession.builder.master(\"local[*]\").getOrCreate()\n",
        "spark.conf.set(\"spark.sql.repl.eagerEval.enabled\", True)\n",
        "spark"
      ],
      "metadata": {
        "colab": {
          "base_uri": "https://localhost:8080/",
          "height": 219
        },
        "id": "2_0FBzBFAHyl",
        "outputId": "2d9acba3-60d9-4774-aa12-c0be86a0b4e7"
      },
      "execution_count": 3,
      "outputs": [
        {
          "output_type": "execute_result",
          "data": {
            "text/html": [
              "\n",
              "            <div>\n",
              "                <p><b>SparkSession - in-memory</b></p>\n",
              "                \n",
              "        <div>\n",
              "            <p><b>SparkContext</b></p>\n",
              "\n",
              "            <p><a href=\"http://f35c8b482a45:4040\">Spark UI</a></p>\n",
              "\n",
              "            <dl>\n",
              "              <dt>Version</dt>\n",
              "                <dd><code>v3.2.0</code></dd>\n",
              "              <dt>Master</dt>\n",
              "                <dd><code>local[*]</code></dd>\n",
              "              <dt>AppName</dt>\n",
              "                <dd><code>pyspark-shell</code></dd>\n",
              "            </dl>\n",
              "        </div>\n",
              "        \n",
              "            </div>\n",
              "        "
            ],
            "text/plain": [
              "<pyspark.sql.session.SparkSession at 0x7f1ca8615dd0>"
            ]
          },
          "metadata": {},
          "execution_count": 3
        }
      ]
    },
    {
      "cell_type": "code",
      "source": [
        "sc = spark.sparkContext"
      ],
      "metadata": {
        "id": "M2nXNTTeAhl1"
      },
      "execution_count": 4,
      "outputs": []
    },
    {
      "cell_type": "code",
      "source": [
        "data = [54.4, 25, 15, 45.34, 12, 45, 78]\n",
        "data_rdd = sc.parallelize(data)\n",
        "print(type(data_rdd))\n",
        "data_rdd.collect()"
      ],
      "metadata": {
        "colab": {
          "base_uri": "https://localhost:8080/"
        },
        "id": "W9RxY194AkGK",
        "outputId": "a374c95a-29de-4f41-90fb-f3689b649812"
      },
      "execution_count": 5,
      "outputs": [
        {
          "output_type": "stream",
          "name": "stdout",
          "text": [
            "<class 'pyspark.rdd.RDD'>\n"
          ]
        },
        {
          "output_type": "execute_result",
          "data": {
            "text/plain": [
              "[54.4, 25, 15, 45.34, 12, 45, 78]"
            ]
          },
          "metadata": {},
          "execution_count": 5
        }
      ]
    },
    {
      "cell_type": "markdown",
      "source": [
        "# 1) Escalonamiento\n",
        "\n",
        "$x_{sc} = \\frac{x - \\min(x)}{max(x) - min(x)}$\n",
        "\n",
        "```\n",
        "\n",
        "```"
      ],
      "metadata": {
        "id": "1_wG6fv6Flle"
      }
    },
    {
      "cell_type": "code",
      "source": [
        "min = data_rdd.min()\n",
        "max = data_rdd.max()\n",
        "minmax_scale = (data_rdd\n",
        "                .map(lambda x: (x - min)/(max - min))\n",
        "                )\n",
        "# minmax_scale\n",
        "print(minmax_scale.collect())"
      ],
      "metadata": {
        "colab": {
          "base_uri": "https://localhost:8080/"
        },
        "id": "ax_BaiVmAsHf",
        "outputId": "47fe0628-e5eb-4370-afbd-8ff48f6c875e"
      },
      "execution_count": 6,
      "outputs": [
        {
          "output_type": "stream",
          "name": "stdout",
          "text": [
            "[0.6424242424242425, 0.19696969696969696, 0.045454545454545456, 0.5051515151515152, 0.0, 0.5, 1.0]\n"
          ]
        }
      ]
    },
    {
      "cell_type": "markdown",
      "source": [
        "#2) Estandarizacion"
      ],
      "metadata": {
        "id": "Ke41FYxtvb3u"
      }
    },
    {
      "cell_type": "code",
      "source": [
        "media  = data_rdd.mean()\n",
        "std    = data_rdd.stdev()\n",
        "standardization= data_rdd.map(lambda xi : (xi-media)/std)\n",
        "print(standardization.collect())"
      ],
      "metadata": {
        "colab": {
          "base_uri": "https://localhost:8080/"
        },
        "id": "Y96FGxTEulCQ",
        "outputId": "7eeac4dd-5bf0-49a2-f3f4-258ebd369691"
      },
      "execution_count": 11,
      "outputs": [
        {
          "output_type": "stream",
          "name": "stdout",
          "text": [
            "[0.69416017146692, -0.6527959221394553, -1.1109442532980864, 0.27907778343720047, -1.2483887526456756, 0.26350074017780684, 1.7753902330012894]\n"
          ]
        }
      ]
    },
    {
      "cell_type": "markdown",
      "source": [
        "#3) Normalizacion"
      ],
      "metadata": {
        "id": "WwS0kcDYxIf4"
      }
    },
    {
      "cell_type": "code",
      "source": [
        "map1=data_rdd.map(lambda xi:xi*xi)\n",
        "total=map1.sum()\n",
        "val=math.sqrt(total)\n",
        "normalized= data_rdd.map(lambda xi :(xi/val))\n",
        "print(normalized.collect())"
      ],
      "metadata": {
        "colab": {
          "base_uri": "https://localhost:8080/"
        },
        "id": "5KGV1nb4wdR1",
        "outputId": "21b21381-c6d2-44bd-b32e-caf0fb21d7d9"
      },
      "execution_count": 15,
      "outputs": [
        {
          "output_type": "stream",
          "name": "stdout",
          "text": [
            "[0.45783727509990346, 0.2104031595128233, 0.12624189570769398, 0.38158717009245635, 0.10099351656615517, 0.3787256871230819, 0.6564578576800086]\n"
          ]
        }
      ]
    },
    {
      "cell_type": "markdown",
      "source": [
        "#5) Binarización"
      ],
      "metadata": {
        "id": "vD7FsQFC3idb"
      }
    },
    {
      "cell_type": "code",
      "source": [
        "data = ['male', 'female', 'male', 'male', 'female', 'male', 'male']\n",
        "data_rdd = sc.parallelize(data)\n",
        "print(type(data_rdd))\n",
        "print(data_rdd.collect())\n",
        "\n",
        "kay_value = data_rdd.distinct().zipWithIndex()\n",
        "binarized = data_rdd.map(lambda x: key_value[x])\n",
        "\n",
        "print(binarized.collect())"
      ],
      "metadata": {
        "colab": {
          "base_uri": "https://localhost:8080/"
        },
        "id": "BzZgwx0Zx8Pl",
        "outputId": "8869240b-b4b2-48f8-b85b-5ddfbbe36b67"
      },
      "execution_count": 48,
      "outputs": [
        {
          "output_type": "stream",
          "name": "stdout",
          "text": [
            "<class 'pyspark.rdd.RDD'>\n",
            "['male', 'female', 'male', 'male', 'female', 'male', 'male']\n",
            "[1, 0, 1, 1, 0, 1, 1]\n"
          ]
        }
      ]
    },
    {
      "cell_type": "markdown",
      "source": [
        "# Term Frequency (TF)"
      ],
      "metadata": {
        "id": "EWKPF8PNR3Li"
      }
    },
    {
      "cell_type": "code",
      "source": [
        "document1 = 'la oración del documento dos es verdadera'\n",
        "document2 = 'la oración del documento uno es falsa'\n",
        "document3 = 'la oración del documento uno y la oración del documento dos son verdaderas'\n",
        "data=[(1, document1),(2, document2),(3, document3)]\n",
        "lines=sc.parallelize(data)\n",
        "lines.collect()"
      ],
      "metadata": {
        "colab": {
          "base_uri": "https://localhost:8080/"
        },
        "id": "k22m_uD0R2Jr",
        "outputId": "66d594e3-2d64-44fa-89bc-230ed07aab08"
      },
      "execution_count": 7,
      "outputs": [
        {
          "output_type": "execute_result",
          "data": {
            "text/plain": [
              "[(1, 'la oración del documento dos es verdadera'),\n",
              " (2, 'la oración del documento uno es falsa'),\n",
              " (3,\n",
              "  'la oración del documento uno y la oración del documento dos son verdaderas')]"
            ]
          },
          "metadata": {},
          "execution_count": 7
        }
      ]
    },
    {
      "cell_type": "code",
      "source": [
        "map1=lines.flatMap(lambda x: [((x[0],i),1) for i in x[1].split()])\n",
        "reduce=map1.reduceByKey(lambda x,y:x+y)\n",
        "# reduce.collect()\n",
        "tf=reduce.map(lambda x: (x[0][1],(x[0][0],x[1])))\n",
        "tf.collect()"
      ],
      "metadata": {
        "id": "syGThT95IRDj",
        "colab": {
          "base_uri": "https://localhost:8080/"
        },
        "outputId": "2e20a4f4-c147-4285-b05f-54e9fe5ba002"
      },
      "execution_count": 8,
      "outputs": [
        {
          "output_type": "execute_result",
          "data": {
            "text/plain": [
              "[('la', (1, 1)),\n",
              " ('documento', (1, 1)),\n",
              " ('dos', (1, 1)),\n",
              " ('es', (1, 1)),\n",
              " ('verdadera', (1, 1)),\n",
              " ('oración', (2, 1)),\n",
              " ('del', (2, 1)),\n",
              " ('la', (3, 2)),\n",
              " ('documento', (3, 2)),\n",
              " ('uno', (3, 1)),\n",
              " ('dos', (3, 1)),\n",
              " ('verdaderas', (3, 1)),\n",
              " ('oración', (1, 1)),\n",
              " ('del', (1, 1)),\n",
              " ('la', (2, 1)),\n",
              " ('documento', (2, 1)),\n",
              " ('uno', (2, 1)),\n",
              " ('es', (2, 1)),\n",
              " ('falsa', (2, 1)),\n",
              " ('oración', (3, 2)),\n",
              " ('del', (3, 2)),\n",
              " ('y', (3, 1)),\n",
              " ('son', (3, 1))]"
            ]
          },
          "metadata": {},
          "execution_count": 8
        }
      ]
    },
    {
      "cell_type": "code",
      "source": [
        ""
      ],
      "metadata": {
        "id": "40bAwC6X1Up5"
      },
      "execution_count": null,
      "outputs": []
    }
  ]
}